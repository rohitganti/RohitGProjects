{
 "cells": [
  {
   "cell_type": "code",
   "execution_count": 12,
   "metadata": {},
   "outputs": [],
   "source": [
    "import numpy as np"
   ]
  },
  {
   "cell_type": "code",
   "execution_count": 37,
   "metadata": {},
   "outputs": [],
   "source": [
    "class Perceptron(object):\n",
    "    def __init__(self, eta= 0.01, n_iter= 50, random_state=1):\n",
    "        self.eta=eta\n",
    "        self.n_iter= n_iter\n",
    "        self.random_state= random_state\n",
    "        \n",
    "    def fit(self, X,y):\n",
    "        rgen= np.random.RandomState(self.random_state)\n",
    "        self.w_= rgen.normal(loc=0.0, scale=0.01,size=1+X.shape[1])\n",
    "        self.errors_=[]\n",
    "        \n",
    "        for _ in range(self.n_iter):\n",
    "            errors=0\n",
    "            for xi, target in zip(X,y):\n",
    "                errors=0\n",
    "                for xi, target in zip(X,y):\n",
    "                    update= self.eta * (target- self.predict(xi))\n",
    "                    self.w_[1:] += update*xi\n",
    "                    self.w_[0] += update\n",
    "                    errors += int(update != 0.0)\n",
    "            self.errors_.append(errors)\n",
    "        return self\n",
    "    \n",
    "    def net_input(self, X):\n",
    "        return np.dot(X, self.w_[1:]+ self.w_[0])\n",
    "    \n",
    "    def predict(self, X):\n",
    "        return np.where(self.net_input(X)>= 0.0, 1,-1)\n",
    "            "
   ]
  },
  {
   "cell_type": "code",
   "execution_count": 38,
   "metadata": {},
   "outputs": [
    {
     "name": "stderr",
     "output_type": "stream",
     "text": [
      "/opt/anaconda3/lib/python3.7/site-packages/ipykernel_launcher.py:3: RuntimeWarning: invalid value encountered in arccos\n",
      "  This is separate from the ipykernel package so we can avoid doing imports until\n"
     ]
    },
    {
     "data": {
      "text/plain": [
       "nan"
      ]
     },
     "execution_count": 38,
     "metadata": {},
     "output_type": "execute_result"
    }
   ],
   "source": [
    "v1= np.array([1,2,3])\n",
    "v2= 0.5*v1\n",
    "np.arccos(v1.dot(v2)/ (np.linalg.norm(v1)))*np.linalg.norm(v2)"
   ]
  },
  {
   "cell_type": "code",
   "execution_count": 39,
   "metadata": {},
   "outputs": [],
   "source": [
    "import os\n",
    "import pandas as pd\n",
    "s= os.path.join('https://archive.ics.uci.edu', 'ml', 'machine-learning-database', 'iris', 'iris.data')\n",
    "df= pd.read_csv('iris.data')"
   ]
  },
  {
   "cell_type": "code",
   "execution_count": 40,
   "metadata": {},
   "outputs": [],
   "source": [
    "import matplotlib.pyplot as plt"
   ]
  },
  {
   "cell_type": "code",
   "execution_count": 41,
   "metadata": {},
   "outputs": [],
   "source": [
    "y= df.iloc[0:100,4].values\n",
    "y= np.where(y== 'Iris-setosa', -1,1)\n",
    "X= df.iloc[0:100,[0,2]].values"
   ]
  },
  {
   "cell_type": "code",
   "execution_count": 42,
   "metadata": {},
   "outputs": [
    {
     "data": {
      "image/png": "[encoded data removed]",
      "text/plain": [
       "<Figure size 432x288 with 1 Axes>"
      ]
     },
     "metadata": {
      "needs_background": "light"
     },
     "output_type": "display_data"
    }
   ],
   "source": [
    "plt.scatter(X[:50,0], X[:50,1], color= 'red', marker='o', label='setosa')\n",
    "plt.scatter(X[50:100,0], X[50:100,1], color= 'blue', marker='x', label='versicolor')\n",
    "plt.xlabel('sepal length [cm]')\n",
    "plt.ylabel('petal length [cm]')\n",
    "plt.legend(loc= 'upper left')\n",
    "plt.show()"
   ]
  },
  {
   "cell_type": "code",
   "execution_count": 44,
   "metadata": {},
   "outputs": [
    {
     "data": {
      "image/png": "[encoded data removed]",
      "text/plain": [
       "<Figure size 432x288 with 1 Axes>"
      ]
     },
     "metadata": {
      "needs_background": "light"
     },
     "output_type": "display_data"
    }
   ],
   "source": [
    "ppn= Perceptron(eta=0.1, n_iter=10)\n",
    "ppn.fit(X,y)\n",
    "plt.plot(range(1,len(ppn.errors_)+1),ppn.errors_, marker='o')\n",
    "plt.xlabel('Epochs')\n",
    "plt.ylabel('Number of updates')\n",
    "plt.show()"
   ]
  },
  {
   "cell_type": "code",
   "execution_count": 67,
   "metadata": {},
   "outputs": [],
   "source": [
    "from matplotlib.colors import ListedColormap\n",
    "def plot_decision_regions(X,y, classifier, resolution=0.02):\n",
    "    markers= ('s','x','o','^','v')\n",
    "    colors= ('red','blue', 'lightgreen', 'gray', 'cyan')\n",
    "    cmap= ListedColormap(colors[:len(np.unique(y))])\n",
    "    \n",
    "    x1_min, x1_max= X[:,0].min() -1, X[:,0].max()+1\n",
    "    x2_min, x2_max= X[:,1].min()-1, X[:,1].max()+1\n",
    "    xx1, xx2= np.meshgrid(np.arange(x1_min, x1_max, resolution), np.arange(x2_min, x2_max, resolution))\n",
    "    Z= classifier.predict(np.array([xx1.ravel(), xx2.ravel()]).T)\n",
    "    Z= Z.reshape(xx1.shape)\n",
    "    \n",
    "    plt.contourf(xx1,xx2, Z, alpha=0.3, cmap= cmap)\n",
    "    plt.xlim(xx1.min(), xx2.max())\n",
    "    plt.ylim(xx2.min(), xx2.max())\n",
    "    \n",
    "        \n",
    "    for idx, cl in enumerate(np.unique(y)):\n",
    "        plt.scatter(x=X[y==cl, 0], \n",
    "                    y=X[y==cl,1], \n",
    "                    alpha=0.8, \n",
    "                    c=colors[idx],\n",
    "                    label=cl, \n",
    "                    edgecolor= 'black')\n",
    "\n",
    "      "
   ]
  },
  {
   "cell_type": "code",
   "execution_count": 68,
   "metadata": {},
   "outputs": [
    {
     "data": {
      "image/png": "[encoded data removed]",
      "text/plain": [
       "<Figure size 432x288 with 1 Axes>"
      ]
     },
     "metadata": {
      "needs_background": "light"
     },
     "output_type": "display_data"
    }
   ],
   "source": [
    "plot_decision_regions(X,y, classifier= ppn)\n",
    "plt.xlabel('sepal length [cm]')\n",
    "plt.ylabel('petal length [cm]')\n",
    "plt.legend(loc='upper left')\n",
    "plt.show()"
   ]
  },
  {
   "cell_type": "code",
   "execution_count": null,
   "metadata": {},
   "outputs": [],
   "source": []
  },
  {
   "cell_type": "code",
   "execution_count": null,
   "metadata": {},
   "outputs": [],
   "source": []
  },
  {
   "cell_type": "code",
   "execution_count": 71,
   "metadata": {},
   "outputs": [],
   "source": [
    "class AdalineGD(object):\n",
    "    def __init__(self, eta=0.01, n_iter=50, random_state=1):\n",
    "        self.eta=eta\n",
    "        self.n_iter= n_iter\n",
    "        self.random_state= random_state\n",
    "        \n",
    "    def fit(self, X,y):\n",
    "        rgen= np.random.RandomState(self.random_state)\n",
    "        self.w_= rgen.normal(loc=0.0, scale= 0.01, size=1+X.shape[1])\n",
    "        self.cost_=[]\n",
    "        \n",
    "        for i in range(self.n_iter):\n",
    "            net_input= self.net_input(X)\n",
    "            output= self.activation(net_input)\n",
    "            errors= (y- output)\n",
    "            self.w_[1:]+= self.eta * X.T.dot(errors)\n",
    "            self.w_[0]+= self.eta* errors.sum()\n",
    "            cost= (errors**2).sum()/2.0\n",
    "            self.cost_.append(cost)\n",
    "        return self\n",
    "    \n",
    "    def net_input(self, X):\n",
    "        return np.dot(X, self.w_[1:])+ self.w_[0]\n",
    "    \n",
    "    def activation(self,X):\n",
    "        return X\n",
    "    \n",
    "    def predict(self,X):\n",
    "        return np.where(self.activation(self.net_input(X))>= 0.0, 1,-1)\n",
    "    \n",
    "    "
   ]
  },
  {
   "cell_type": "code",
   "execution_count": 81,
   "metadata": {},
   "outputs": [
    {
     "data": {
      "image/png": "[encoded data removed]",
      "text/plain": [
       "<Figure size 720x288 with 2 Axes>"
      ]
     },
     "metadata": {
      "needs_background": "light"
     },
     "output_type": "display_data"
    }
   ],
   "source": [
    "fig, ax= plt.subplots(nrows=1, ncols=2, figsize= (10,4))\n",
    "ada1= AdalineGD(n_iter=10,eta=0.01).fit(X,y)\n",
    "ax[0].plot(range(1,len(ada1.cost_)+1), np.log10(ada1.cost_), marker= 'o')\n",
    "ax[0].set_xlabel('Epochs')\n",
    "ax[0].set_ylabel('log(Sum-squared-error)')\n",
    "ax[0].set_title('Adaline- Learning rate 0.01')\n",
    "\n",
    "ada2= AdalineGD(n_iter=10,eta=0.0001).fit(X,y)\n",
    "ax[1].plot(range(1,len(ada2.cost_)+1), ada2.cost_, marker= 'o')\n",
    "ax[1].set_xlabel('Epochs')\n",
    "ax[0].set_ylabel('log(Sum-squared-error)')\n",
    "ax[0].set_title('Adaline- Learning rate 0.0001')\n",
    "\n",
    "plt.show()"
   ]
  },
  {
   "cell_type": "code",
   "execution_count": 3,
   "metadata": {},
   "outputs": [
    {
     "name": "stdout",
     "output_type": "stream",
     "text": [
      "\u001b[31mERROR: Could not find a version that satisfies the requirement opencv (from versions: none)\u001b[0m\n",
      "\u001b[31mERROR: No matching distribution found for opencv\u001b[0m\n",
      "Note: you may need to restart the kernel to use updated packages.\n"
     ]
    }
   ],
   "source": []
  },
  {
   "cell_type": "code",
   "execution_count": null,
   "metadata": {},
   "outputs": [],
   "source": []
  },
  {
   "cell_type": "code",
   "execution_count": null,
   "metadata": {},
   "outputs": [],
   "source": []
  },
  {
   "cell_type": "code",
   "execution_count": null,
   "metadata": {},
   "outputs": [],
   "source": []
  },
  {
   "cell_type": "code",
   "execution_count": null,
   "metadata": {},
   "outputs": [],
   "source": []
  }
 ],
 "metadata": {
  "kernelspec": {
   "display_name": "Python 3",
   "language": "python",
   "name": "python3"
  },
  "language_info": {
   "codemirror_mode": {
    "name": "ipython",
    "version": 3
   },
   "file_extension": ".py",
   "mimetype": "text/x-python",
   "name": "python",
   "nbconvert_exporter": "python",
   "pygments_lexer": "ipython3",
   "version": "3.7.6"
  }
 },
 "nbformat": 4,
 "nbformat_minor": 4
}
