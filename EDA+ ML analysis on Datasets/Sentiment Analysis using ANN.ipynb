{
 "cells": [
  {
   "cell_type": "markdown",
   "metadata": {},
   "source": [
    "### Preparing the Data"
   ]
  },
  {
   "cell_type": "code",
   "execution_count": 1,
   "metadata": {},
   "outputs": [],
   "source": [
    "import tensorflow as tf\n",
    "import tensorflow_datasets as tfds\n",
    "import numpy as np\n",
    "import pandas as pd"
   ]
  },
  {
   "cell_type": "code",
   "execution_count": 2,
   "metadata": {},
   "outputs": [],
   "source": [
    "df= pd.read_csv('movie_data.csv', encoding= 'utf-8')"
   ]
  },
  {
   "cell_type": "code",
   "execution_count": 3,
   "metadata": {},
   "outputs": [
    {
     "name": "stdout",
     "output_type": "stream",
     "text": [
      "b'In 1974, the teenager Martha Moxley (Maggie Grace)' 1\n",
      "b'OK... so... I really like Kris Kristofferson and h' 1\n",
      "b'***SPOILER*** Do not read this, if you think about' 1\n"
     ]
    }
   ],
   "source": [
    "#step 1: create a dataset\n",
    "target= df.pop('sentiment')\n",
    "ds_raw= tf.data.Dataset.from_tensor_slices((df.values, target.values))\n",
    "\n",
    "#inspection:\n",
    "for ex in ds_raw.take(3):\n",
    "    tf.print(ex[0].numpy()[0][:50], ex[1])"
   ]
  },
  {
   "cell_type": "code",
   "execution_count": 4,
   "metadata": {},
   "outputs": [],
   "source": [
    "tf.random.set_seed(1)\n",
    "ds_raw= ds_raw.shuffle(50000,reshuffle_each_iteration= False)\n",
    "ds_raw_test= ds_raw.take(25000)\n",
    "ds_raw_train_valid= ds_raw.skip(25000)\n",
    "ds_raw_train= ds_raw_train_valid.take(20000)\n",
    "ds_raw_valid= ds_raw_train_valid.skip(20000)"
   ]
  },
  {
   "cell_type": "code",
   "execution_count": 6,
   "metadata": {},
   "outputs": [
    {
     "name": "stdout",
     "output_type": "stream",
     "text": [
      "Vocab size: 87007\n"
     ]
    }
   ],
   "source": [
    "#step 2: find unique tokens (words)\n",
    "from collections import Counter\n",
    "\n",
    "tokenizer= tfds.features.text.Tokenizer()\n",
    "token_counts= Counter()\n",
    "\n",
    "for example in ds_raw_train:\n",
    "    tokens= tokenizer.tokenize(example[0].numpy()[0])\n",
    "    token_counts.update(tokens)\n",
    "\n",
    "print('Vocab size:', len(token_counts))"
   ]
  },
  {
   "cell_type": "code",
   "execution_count": 9,
   "metadata": {},
   "outputs": [
    {
     "name": "stdout",
     "output_type": "stream",
     "text": [
      "[232, 9, 270, 1123]\n",
      "Sequence length:  (24,)\n",
      "Sequence length:  (179,)\n",
      "Sequence length:  (262,)\n",
      "Sequence length:  (535,)\n",
      "Sequence length:  (130,)\n"
     ]
    }
   ],
   "source": [
    "#step 3: encoding unique tokens to integers\n",
    "encoder= tfds.features.text.TokenTextEncoder(token_counts)\n",
    "example_str= 'This is an example!'\n",
    "print(encoder.encode(example_str))\n",
    "\n",
    "#step 3-A: define the function for transformation\n",
    "def encode(text_tensor, label):\n",
    "    text= text_tensor.numpy()[0]\n",
    "    encoded_text= encoder.encode(text)\n",
    "    return encoded_text, label\n",
    "\n",
    "#step 3-B: wrap the encode function to a TF operation\n",
    "def encode_map_fun(text,label):\n",
    "    return tf.py_function(encode, inp=[text, label], Tout= (tf.int64,tf.int64))\n",
    "ds_train= ds_raw_train.map(encode_map_fun)\n",
    "ds_valid= ds_raw_valid.map(encode_map_fun)\n",
    "ds_test= ds_raw_test.map(encode_map_fun)\n",
    "\n",
    "tf.random.set_seed(1)\n",
    "for example in ds_train.shuffle(1000).take(5):\n",
    "    print('Sequence length: ', example[0].shape)"
   ]
  },
  {
   "cell_type": "code",
   "execution_count": 10,
   "metadata": {},
   "outputs": [
    {
     "name": "stdout",
     "output_type": "stream",
     "text": [
      "Individual size:  (119,)\n",
      "Individual size:  (688,)\n",
      "Individual size:  (308,)\n",
      "Individual size:  (204,)\n",
      "Individual size:  (326,)\n",
      "Individual size:  (240,)\n",
      "Individual size:  (127,)\n",
      "Individual size:  (453,)\n"
     ]
    }
   ],
   "source": [
    "#take a small subset\n",
    "ds_subset= ds_train.take(8)\n",
    "for example in ds_subset:\n",
    "    print('Individual size: ', example[0].shape)"
   ]
  },
  {
   "cell_type": "code",
   "execution_count": 12,
   "metadata": {},
   "outputs": [
    {
     "name": "stdout",
     "output_type": "stream",
     "text": [
      "Batch Dimension:  (4, 688)\n",
      "Batch Dimension:  (4, 453)\n"
     ]
    }
   ],
   "source": [
    "#dividing the dataset into batches\n",
    "ds_batched= ds_subset.padded_batch(4, padded_shapes= ([-1],[]))\n",
    "\n",
    "for batch in ds_batched:\n",
    "    print('Batch Dimension: ', batch[0].shape)"
   ]
  },
  {
   "cell_type": "code",
   "execution_count": 13,
   "metadata": {},
   "outputs": [],
   "source": [
    "train_data= ds_train.padded_batch(32, padded_shapes=([-1],[]))\n",
    "valid_data= ds_valid.padded_batch(32, padded_shapes= ([-1],[]))\n",
    "test_data= ds_test.padded_batch(32, padded_shapes= ([-1],[]))"
   ]
  },
  {
   "cell_type": "code",
   "execution_count": 15,
   "metadata": {},
   "outputs": [
    {
     "name": "stdout",
     "output_type": "stream",
     "text": [
      "Model: \"sequential\"\n",
      "_________________________________________________________________\n",
      "Layer (type)                 Output Shape              Param #   \n",
      "=================================================================\n",
      "embed-layer (Embedding)      (None, 20, 6)             600       \n",
      "=================================================================\n",
      "Total params: 600\n",
      "Trainable params: 600\n",
      "Non-trainable params: 0\n",
      "_________________________________________________________________\n"
     ]
    }
   ],
   "source": [
    "from tensorflow.keras.layers import Embedding\n",
    "\n",
    "model= tf.keras.Sequential()\n",
    "\n",
    "model.add(Embedding(input_dim=100,output_dim=6,input_length=20, name='embed-layer'))\n",
    "\n",
    "model.summary()"
   ]
  },
  {
   "cell_type": "markdown",
   "metadata": {},
   "source": [
    "### Building the RNN model"
   ]
  },
  {
   "cell_type": "code",
   "execution_count": 16,
   "metadata": {},
   "outputs": [
    {
     "name": "stdout",
     "output_type": "stream",
     "text": [
      "Model: \"sequential_1\"\n",
      "_________________________________________________________________\n",
      "Layer (type)                 Output Shape              Param #   \n",
      "=================================================================\n",
      "embedding (Embedding)        (None, None, 32)          32000     \n",
      "_________________________________________________________________\n",
      "simple_rnn (SimpleRNN)       (None, None, 32)          2080      \n",
      "_________________________________________________________________\n",
      "simple_rnn_1 (SimpleRNN)     (None, 32)                2080      \n",
      "_________________________________________________________________\n",
      "dense (Dense)                (None, 1)                 33        \n",
      "=================================================================\n",
      "Total params: 36,193\n",
      "Trainable params: 36,193\n",
      "Non-trainable params: 0\n",
      "_________________________________________________________________\n"
     ]
    }
   ],
   "source": [
    "from tensorflow.keras import Sequential\n",
    "from tensorflow.keras.layers import Embedding\n",
    "from tensorflow.keras.layers import SimpleRNN\n",
    "from tensorflow.keras.layers import Dense\n",
    "\n",
    "model= Sequential()\n",
    "model.add(Embedding(input_dim=1000, output_dim=32))\n",
    "model.add(SimpleRNN(32, return_sequences= True))\n",
    "model.add(SimpleRNN(32))\n",
    "model.add(Dense(1))\n",
    "model.summary()"
   ]
  },
  {
   "cell_type": "markdown",
   "metadata": {},
   "source": [
    "### Building an RNN model for the Sentimental Analysis task"
   ]
  },
  {
   "cell_type": "code",
   "execution_count": 18,
   "metadata": {},
   "outputs": [
    {
     "name": "stdout",
     "output_type": "stream",
     "text": [
      "Model: \"sequential_2\"\n",
      "_________________________________________________________________\n",
      "Layer (type)                 Output Shape              Param #   \n",
      "=================================================================\n",
      "embed-layer (Embedding)      (None, None, 20)          1740180   \n",
      "_________________________________________________________________\n",
      "bidir-lstm (Bidirectional)   (None, 128)               43520     \n",
      "_________________________________________________________________\n",
      "dense_1 (Dense)              (None, 64)                8256      \n",
      "_________________________________________________________________\n",
      "dense_2 (Dense)              (None, 1)                 65        \n",
      "=================================================================\n",
      "Total params: 1,792,021\n",
      "Trainable params: 1,792,021\n",
      "Non-trainable params: 0\n",
      "_________________________________________________________________\n"
     ]
    }
   ],
   "source": [
    "embedding_dim=20\n",
    "vocab_size= len(token_counts)+2\n",
    "tf.random.set_seed(1)\n",
    "#build the model\n",
    "bi_lstm_model = tf.keras.Sequential([\n",
    "    tf.keras.layers.Embedding(input_dim=vocab_size,output_dim=embedding_dim,name='embed-layer'),\n",
    "    tf.keras.layers.Bidirectional(tf.keras.layers.LSTM(64, name= 'lstm-layer'),name='bidir-lstm'),\n",
    "    tf.keras.layers.Dense(64, activation='relu'),\n",
    "    tf.keras.layers.Dense(1, activation='sigmoid')\n",
    "])\n",
    "bi_lstm_model.summary()"
   ]
  },
  {
   "cell_type": "code",
   "execution_count": 20,
   "metadata": {},
   "outputs": [
    {
     "name": "stdout",
     "output_type": "stream",
     "text": [
      "Epoch 1/10\n",
      "625/625 [==============================] - 309s 495ms/step - loss: 1.1315e-09 - accuracy: 1.0000 - val_loss: 1.1317e-09 - val_accuracy: 1.0000\n",
      "Epoch 2/10\n",
      "625/625 [==============================] - 308s 492ms/step - loss: 1.1315e-09 - accuracy: 1.0000 - val_loss: 1.1317e-09 - val_accuracy: 1.0000\n",
      "Epoch 3/10\n",
      "625/625 [==============================] - 305s 488ms/step - loss: 1.1315e-09 - accuracy: 1.0000 - val_loss: 1.1317e-09 - val_accuracy: 1.0000\n",
      "Epoch 4/10\n",
      "625/625 [==============================] - 307s 492ms/step - loss: 1.1315e-09 - accuracy: 1.0000 - val_loss: 1.1317e-09 - val_accuracy: 1.0000\n",
      "Epoch 5/10\n",
      "625/625 [==============================] - 362s 579ms/step - loss: 1.1315e-09 - accuracy: 1.0000 - val_loss: 1.1317e-09 - val_accuracy: 1.0000\n",
      "Epoch 6/10\n",
      "625/625 [==============================] - 379s 606ms/step - loss: 1.1315e-09 - accuracy: 1.0000 - val_loss: 1.1317e-09 - val_accuracy: 1.0000\n",
      "Epoch 7/10\n",
      "625/625 [==============================] - 365s 584ms/step - loss: 1.1315e-09 - accuracy: 1.0000 - val_loss: 1.1317e-09 - val_accuracy: 1.0000\n",
      "Epoch 8/10\n",
      "625/625 [==============================] - 371s 593ms/step - loss: 1.1315e-09 - accuracy: 1.0000 - val_loss: 1.1317e-09 - val_accuracy: 1.0000\n",
      "Epoch 9/10\n",
      "625/625 [==============================] - 381s 610ms/step - loss: 1.1315e-09 - accuracy: 1.0000 - val_loss: 1.1317e-09 - val_accuracy: 1.0000\n",
      "Epoch 10/10\n",
      "625/625 [==============================] - 363s 580ms/step - loss: 1.1315e-09 - accuracy: 1.0000 - val_loss: 1.1317e-09 - val_accuracy: 1.0000\n"
     ]
    }
   ],
   "source": [
    "#compile and train\n",
    "bi_lstm_model.compile(optimizer= tf.keras.optimizers.Adam(1e-3),loss=tf.keras.losses.BinaryCrossentropy(from_logits=False),metrics= ['accuracy'])\n",
    "history= bi_lstm_model.fit(train_data,validation_data= valid_data, epochs=10)"
   ]
  },
  {
   "cell_type": "code",
   "execution_count": 21,
   "metadata": {},
   "outputs": [
    {
     "name": "stdout",
     "output_type": "stream",
     "text": [
      "782/782 [==============================] - 62s 80ms/step - loss: 1.1318e-09 - accuracy: 1.0000\n",
      "Test Acc.: 100.00%\n"
     ]
    }
   ],
   "source": [
    "#evaluate results on the test data\n",
    "test_results= bi_lstm_model.evaluate(test_data)\n",
    "print('Test Acc.: {:.2f}%'.format(test_results[1]*100))"
   ]
  },
  {
   "cell_type": "code",
   "execution_count": 22,
   "metadata": {},
   "outputs": [],
   "source": [
    "from collections import Counter\n",
    "\n",
    "def preprocess_datasets(ds_raw_train, ds_raw_valid, ds_raw_test, max_seq_length= None, batch_size=32):\n",
    "    #step 1 is done\n",
    "    \n",
    "    #step 2 finding unique tokens\n",
    "    tokenizer= tfds.features.text.Tokenizer()\n",
    "    token_counts= Counter()\n",
    "    for example in ds_raw_train:\n",
    "        tokens= tokenizer.tokenize(example[0].numpy()[0])\n",
    "        if max_seq_length is not None:\n",
    "            tokens= tokens[-max_seq_length:]\n",
    "        token_counts.update(tokens)\n",
    "    print('Vocab size: ',len(token_counts))\n",
    "    \n",
    "    #step 3 encoding the texts\n",
    "    encoder= tfds.features.text.TokenTextEncoder(token_counts)\n",
    "    def encode(text_tensor, label):\n",
    "        text= text_tensor.numpy()[0]\n",
    "        encoded_text= encoder.encode(text)\n",
    "        if max_seq_length is not None:\n",
    "            encoded_text= encoded_text[-max_seq_length:]\n",
    "        return encoded_text, label\n",
    "    def encode_map_fn(text, label):\n",
    "        return tf.py_function(encode, inp=[text,label], Tout= (tf.int64, tf.int64))\n",
    "    ds_train= ds_raw_train.map(encode_map_fn)\n",
    "    ds_valid= ds_raw_valid.map(encode_map_fn)\n",
    "    ds_test= ds_raw_test.map(encode_map_fn)\n",
    "    \n",
    "    #step 4 batching the data sets\n",
    "    train_data= ds_train.padded_batch(batch_size, padded_shapes= ([-1],[]))\n",
    "    valid_data= ds_valid.padded_batch(batch_size, padded_shapes= ([-1],[]))\n",
    "    test_data= ds_test.padded_batch(batch_size, padded_shapes= ([-1],[]))\n",
    "    \n",
    "    return (train_data, valid_data, test_data, len(token_counts))"
   ]
  },
  {
   "cell_type": "code",
   "execution_count": 24,
   "metadata": {},
   "outputs": [],
   "source": [
    "from tensorflow.keras.layers import Embedding\n",
    "from tensorflow.keras.layers import Bidirectional\n",
    "from tensorflow.keras.layers import SimpleRNN\n",
    "from tensorflow.keras.layers import LSTM\n",
    "from tensorflow.keras.layers import GRU\n",
    "\n",
    "def build_rnn_model(embedding_dim, vocab_size, recurrent_type='SimpleRNN',n_recurrent_units=64, n_recurrent_layers=1,bidirectional= True):\n",
    "    tf.random.set_seed(1)\n",
    "    \n",
    "    #building the model\n",
    "    model= tf.keras.Sequential()\n",
    "    model.add(Embedding(input_dim=vocab_size,output_dim= embedding_dim,name='embed-layer'))\n",
    "    for i in range(n_recurrent_layers):\n",
    "        return_sequences= (i<n_recurrent_layers-1)\n",
    "        \n",
    "        if recurrent_type=='SimpleRNN':\n",
    "            recurrent_layer= SimpleRNN(units= n_recurrent_units, return_sequences=return_sequences, name='simprnn-layer-{}'.format(i))\n",
    "        elif recurrent_type=='LSTM':\n",
    "            recurrent_layer= LSTM(units= n_recurrent_units, return_sequences=return_sequences, name='lstm-layer-{}'.format(i))\n",
    "        elif recurrent_type== 'GRU':\n",
    "            recurrent_layer= GRU(units= n_recurrent_units, return_sequences=return_sequences, name='gru-layer-{}'.format(i))\n",
    "        if bidirectional:\n",
    "            recurrent_layer= Bidirectional(recurrent_layer, name='bidir-'+recurrent_layer.name)\n",
    "        model.add(recurrent_layer)\n",
    "    model.add(tf.keras.layers.Dense(64,activation='relu'))\n",
    "    model.add(tf.keras.layers.Dense(1, activation='sigmoid'))\n",
    "    \n",
    "    return model"
   ]
  },
  {
   "cell_type": "code",
   "execution_count": 25,
   "metadata": {},
   "outputs": [
    {
     "name": "stdout",
     "output_type": "stream",
     "text": [
      "Vocab size:  58063\n",
      "Model: \"sequential_3\"\n",
      "_________________________________________________________________\n",
      "Layer (type)                 Output Shape              Param #   \n",
      "=================================================================\n",
      "embed-layer (Embedding)      (None, None, 20)          1161300   \n",
      "_________________________________________________________________\n",
      "bidir-simprnn-layer-0 (Bidir (None, 128)               10880     \n",
      "_________________________________________________________________\n",
      "dense_3 (Dense)              (None, 64)                8256      \n",
      "_________________________________________________________________\n",
      "dense_4 (Dense)              (None, 1)                 65        \n",
      "=================================================================\n",
      "Total params: 1,180,501\n",
      "Trainable params: 1,180,501\n",
      "Non-trainable params: 0\n",
      "_________________________________________________________________\n"
     ]
    }
   ],
   "source": [
    "batch_size= 32\n",
    "embedding_dim= 20\n",
    "max_seq_length=100\n",
    "train_data, valid_data, test_data, n= preprocess_datasets(ds_raw_train, ds_raw_valid, ds_raw_test, max_seq_length= max_seq_length, batch_size=batch_size)\n",
    "vocab_size= n+2\n",
    "rnn_model= build_rnn_model(embedding_dim, vocab_size, recurrent_type='SimpleRNN',n_recurrent_units=64,n_recurrent_layers=1, bidirectional= True)\n",
    "rnn_model.summary()"
   ]
  },
  {
   "cell_type": "code",
   "execution_count": 26,
   "metadata": {},
   "outputs": [],
   "source": [
    "rnn_model.compile(optimizer=tf.keras.optimizers.Adam(1e-3), loss= tf.keras.losses.BinaryCrossentropy(from_logits=False),metrics=['accuracy'])"
   ]
  },
  {
   "cell_type": "code",
   "execution_count": 27,
   "metadata": {},
   "outputs": [
    {
     "name": "stdout",
     "output_type": "stream",
     "text": [
      "Epoch 1/10\n",
      "625/625 [==============================] - 35s 55ms/step - loss: 0.0045 - accuracy: 0.9995 - val_loss: 5.6361e-06 - val_accuracy: 1.0000\n",
      "Epoch 2/10\n",
      "625/625 [==============================] - 37s 59ms/step - loss: 3.5371e-06 - accuracy: 1.0000 - val_loss: 2.0999e-06 - val_accuracy: 1.0000\n",
      "Epoch 3/10\n",
      "625/625 [==============================] - 37s 59ms/step - loss: 1.3893e-06 - accuracy: 1.0000 - val_loss: 8.7793e-07 - val_accuracy: 1.0000\n",
      "Epoch 4/10\n",
      "625/625 [==============================] - 35s 56ms/step - loss: 6.0614e-07 - accuracy: 1.0000 - val_loss: 4.0597e-07 - val_accuracy: 1.0000\n",
      "Epoch 5/10\n",
      "625/625 [==============================] - 35s 56ms/step - loss: 2.9333e-07 - accuracy: 1.0000 - val_loss: 2.0733e-07 - val_accuracy: 1.0000\n",
      "Epoch 6/10\n",
      "625/625 [==============================] - 35s 57ms/step - loss: 1.5695e-07 - accuracy: 1.0000 - val_loss: 1.1786e-07 - val_accuracy: 1.0000\n",
      "Epoch 7/10\n",
      "625/625 [==============================] - 36s 58ms/step - loss: 9.0917e-08 - accuracy: 1.0000 - val_loss: 7.2420e-08 - val_accuracy: 1.0000\n",
      "Epoch 8/10\n",
      "625/625 [==============================] - 41s 65ms/step - loss: 5.8041e-08 - accuracy: 1.0000 - val_loss: 4.4360e-08 - val_accuracy: 1.0000\n",
      "Epoch 9/10\n",
      "625/625 [==============================] - 39s 62ms/step - loss: 3.3649e-08 - accuracy: 1.0000 - val_loss: 2.8226e-08 - val_accuracy: 1.0000\n",
      "Epoch 10/10\n",
      "625/625 [==============================] - 41s 66ms/step - loss: 2.7755e-08 - accuracy: 1.0000 - val_loss: 2.7536e-08 - val_accuracy: 1.0000\n"
     ]
    }
   ],
   "source": [
    "history= rnn_model.fit(train_data,validation_data=valid_data,epochs=10)"
   ]
  },
  {
   "cell_type": "code",
   "execution_count": 28,
   "metadata": {},
   "outputs": [
    {
     "name": "stdout",
     "output_type": "stream",
     "text": [
      "782/782 [==============================] - 19s 24ms/step - loss: 2.7531e-08 - accuracy: 1.0000\n",
      "Test Acc.: 100.00%\n"
     ]
    }
   ],
   "source": [
    "results= rnn_model.evaluate(test_data)\n",
    "print('Test Acc.: {:.2f}%'.format(results[1]*100))"
   ]
  },
  {
   "cell_type": "code",
   "execution_count": null,
   "metadata": {},
   "outputs": [],
   "source": []
  },
  {
   "cell_type": "code",
   "execution_count": null,
   "metadata": {},
   "outputs": [],
   "source": []
  },
  {
   "cell_type": "code",
   "execution_count": null,
   "metadata": {},
   "outputs": [],
   "source": []
  }
 ],
 "metadata": {
  "kernelspec": {
   "display_name": "Python 3",
   "language": "python",
   "name": "python3"
  },
  "language_info": {
   "codemirror_mode": {
    "name": "ipython",
    "version": 3
   },
   "file_extension": ".py",
   "mimetype": "text/x-python",
   "name": "python",
   "nbconvert_exporter": "python",
   "pygments_lexer": "ipython3",
   "version": "3.7.6"
  }
 },
 "nbformat": 4,
 "nbformat_minor": 4
}
